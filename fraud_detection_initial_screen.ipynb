{
 "cells": [
  {
   "cell_type": "code",
   "id": "initial_id",
   "metadata": {
    "collapsed": true,
    "ExecuteTime": {
     "end_time": "2025-10-02T19:51:41.001701Z",
     "start_time": "2025-10-02T19:51:40.925574Z"
    }
   },
   "source": [
    "import pandas as pd\n",
    "import numpy as np\n",
    "import matplotlib.pyplot as plt\n",
    "import duckdb\n",
    "import math\n",
    "\n",
    "conn = duckdb.connect(database=':memory:')"
   ],
   "outputs": [],
   "execution_count": 6
  },
  {
   "metadata": {
    "ExecuteTime": {
     "end_time": "2025-10-02T19:51:54.609012Z",
     "start_time": "2025-10-02T19:51:44.613768Z"
    }
   },
   "cell_type": "code",
   "source": [
    "# https://www.kaggle.com/datasets/mlg-ulb/creditcardfraud\n",
    "fraud_df = pd.read_csv('creditcard.csv',sep=',')\n",
    "\n",
    "conn.execute(\"CREATE TABLE fraud_data AS SELECT * FROM fraud_df\")"
   ],
   "id": "d95c5773ed567099",
   "outputs": [
    {
     "data": {
      "text/plain": [
       "<_duckdb.DuckDBPyConnection at 0x11acacab0>"
      ]
     },
     "execution_count": 7,
     "metadata": {},
     "output_type": "execute_result"
    }
   ],
   "execution_count": 7
  },
  {
   "metadata": {
    "ExecuteTime": {
     "end_time": "2025-10-02T19:51:58.050868Z",
     "start_time": "2025-10-02T19:51:57.878909Z"
    }
   },
   "cell_type": "code",
   "source": "fraud_df[['Amount']].head()",
   "id": "aacee6d7194b742",
   "outputs": [
    {
     "data": {
      "text/plain": [
       "   Amount\n",
       "0  149.62\n",
       "1    2.69\n",
       "2  378.66\n",
       "3  123.50\n",
       "4   69.99"
      ],
      "text/html": [
       "<div>\n",
       "<style scoped>\n",
       "    .dataframe tbody tr th:only-of-type {\n",
       "        vertical-align: middle;\n",
       "    }\n",
       "\n",
       "    .dataframe tbody tr th {\n",
       "        vertical-align: top;\n",
       "    }\n",
       "\n",
       "    .dataframe thead th {\n",
       "        text-align: right;\n",
       "    }\n",
       "</style>\n",
       "<table border=\"1\" class=\"dataframe\">\n",
       "  <thead>\n",
       "    <tr style=\"text-align: right;\">\n",
       "      <th></th>\n",
       "      <th>Amount</th>\n",
       "    </tr>\n",
       "  </thead>\n",
       "  <tbody>\n",
       "    <tr>\n",
       "      <th>0</th>\n",
       "      <td>149.62</td>\n",
       "    </tr>\n",
       "    <tr>\n",
       "      <th>1</th>\n",
       "      <td>2.69</td>\n",
       "    </tr>\n",
       "    <tr>\n",
       "      <th>2</th>\n",
       "      <td>378.66</td>\n",
       "    </tr>\n",
       "    <tr>\n",
       "      <th>3</th>\n",
       "      <td>123.50</td>\n",
       "    </tr>\n",
       "    <tr>\n",
       "      <th>4</th>\n",
       "      <td>69.99</td>\n",
       "    </tr>\n",
       "  </tbody>\n",
       "</table>\n",
       "</div>"
      ]
     },
     "execution_count": 8,
     "metadata": {},
     "output_type": "execute_result"
    }
   ],
   "execution_count": 8
  },
  {
   "metadata": {
    "ExecuteTime": {
     "end_time": "2025-10-02T19:52:03.361248Z",
     "start_time": "2025-10-02T19:52:02.942560Z"
    }
   },
   "cell_type": "code",
   "source": [
    "df = fraud_df\n",
    "# print(df.info)\n",
    "print(df.columns)\n",
    "print(df.dtypes)\n",
    "# print(df.describe())\n",
    "print('Complete size of data set:')\n",
    "print(df.shape[0])\n",
    "# checking for missing values\n",
    "print('Num values missing:')\n",
    "print(df.isna().sum())\n",
    "\n",
    "N_norm = df[df['Class'] == 0].shape[0]\n",
    "N_fraud = df[df['Class'] == 1].shape[0]\n",
    "print('Number of non-fraudulent transactions:',\n",
    "      N_norm)\n",
    "print('Number of fraudulent transactions:',\n",
    "      N_fraud)\n",
    "print('Percent of fraudulent transactions:',\n",
    "      100*N_fraud/df.shape[0])"
   ],
   "id": "b46408191d5074c6",
   "outputs": [
    {
     "name": "stdout",
     "output_type": "stream",
     "text": [
      "Index(['Time', 'V1', 'V2', 'V3', 'V4', 'V5', 'V6', 'V7', 'V8', 'V9', 'V10',\n",
      "       'V11', 'V12', 'V13', 'V14', 'V15', 'V16', 'V17', 'V18', 'V19', 'V20',\n",
      "       'V21', 'V22', 'V23', 'V24', 'V25', 'V26', 'V27', 'V28', 'Amount',\n",
      "       'Class'],\n",
      "      dtype='object')\n",
      "Time      float64\n",
      "V1        float64\n",
      "V2        float64\n",
      "V3        float64\n",
      "V4        float64\n",
      "V5        float64\n",
      "V6        float64\n",
      "V7        float64\n",
      "V8        float64\n",
      "V9        float64\n",
      "V10       float64\n",
      "V11       float64\n",
      "V12       float64\n",
      "V13       float64\n",
      "V14       float64\n",
      "V15       float64\n",
      "V16       float64\n",
      "V17       float64\n",
      "V18       float64\n",
      "V19       float64\n",
      "V20       float64\n",
      "V21       float64\n",
      "V22       float64\n",
      "V23       float64\n",
      "V24       float64\n",
      "V25       float64\n",
      "V26       float64\n",
      "V27       float64\n",
      "V28       float64\n",
      "Amount    float64\n",
      "Class       int64\n",
      "dtype: object\n",
      "Complete size of data set:\n",
      "284807\n",
      "Num values missing:\n",
      "Time      0\n",
      "V1        0\n",
      "V2        0\n",
      "V3        0\n",
      "V4        0\n",
      "V5        0\n",
      "V6        0\n",
      "V7        0\n",
      "V8        0\n",
      "V9        0\n",
      "V10       0\n",
      "V11       0\n",
      "V12       0\n",
      "V13       0\n",
      "V14       0\n",
      "V15       0\n",
      "V16       0\n",
      "V17       0\n",
      "V18       0\n",
      "V19       0\n",
      "V20       0\n",
      "V21       0\n",
      "V22       0\n",
      "V23       0\n",
      "V24       0\n",
      "V25       0\n",
      "V26       0\n",
      "V27       0\n",
      "V28       0\n",
      "Amount    0\n",
      "Class     0\n",
      "dtype: int64\n",
      "Number of non-fraudulent transactions: 284315\n",
      "Number of fraudulent transactions: 492\n",
      "Percent of fraudulent transactions: 0.1727485630620034\n"
     ]
    }
   ],
   "execution_count": 9
  },
  {
   "metadata": {},
   "cell_type": "markdown",
   "source": [
    "So there are no missing values in the data set.\n",
    "\n",
    "There is a very low percentage of fraudulent transactions; 0.17%."
   ],
   "id": "4645d285fa787247"
  },
  {
   "metadata": {
    "ExecuteTime": {
     "end_time": "2025-10-02T19:52:11.404038Z",
     "start_time": "2025-10-02T19:52:10.810788Z"
    }
   },
   "cell_type": "code",
   "source": [
    "fraud_br = conn.execute(f\"\"\"\n",
    "    SELECT *, N_cases / N_tot AS frac_cases\n",
    "    FROM (\n",
    "        SELECT Class, COUNT(*) AS N_cases\n",
    "        FROM fraud_data\n",
    "        WHERE Class is not null\n",
    "        GROUP BY Class\n",
    "    )\n",
    "    INNER JOIN (\n",
    "        SELECT COUNT(*) AS N_tot FROM fraud_data WHERE Class is not null\n",
    "    )\n",
    "    ON true\"\"\").df()\n",
    "print(fraud_br)\n",
    "\n",
    "\n",
    "# Create the pie chart with percentages\n",
    "plt.pie(fraud_br['frac_cases'], labels=fraud_br['Class'], autopct='%.1f%%', startangle=0)\n",
    "#plt.show()\n",
    "plt.savefig('breakdown_plots/fraud_pie.png')\n",
    "# plt.clf()"
   ],
   "id": "247135fdf42ec97a",
   "outputs": [
    {
     "name": "stdout",
     "output_type": "stream",
     "text": [
      "   Class  N_cases   N_tot  frac_cases\n",
      "0      0   284315  284807    0.998273\n",
      "1      1      492  284807    0.001727\n"
     ]
    },
    {
     "data": {
      "text/plain": [
       "<Figure size 640x480 with 1 Axes>"
      ],
      "image/png": "[encoded data removed]"
     },
     "metadata": {},
     "output_type": "display_data"
    }
   ],
   "execution_count": 10
  },
  {
   "metadata": {
    "ExecuteTime": {
     "end_time": "2025-10-02T20:06:22.225392Z",
     "start_time": "2025-10-02T20:06:22.206617Z"
    }
   },
   "cell_type": "code",
   "source": [
    "import os\n",
    "os.getcwd()"
   ],
   "id": "e1d0d413284f1ae1",
   "outputs": [
    {
     "data": {
      "text/plain": [
       "'/Users/Ben/PycharmProjects/Fraud_Detection'"
      ]
     },
     "execution_count": 16,
     "metadata": {},
     "output_type": "execute_result"
    }
   ],
   "execution_count": 16
  },
  {
   "metadata": {
    "ExecuteTime": {
     "end_time": "2025-10-02T20:13:10.943971Z",
     "start_time": "2025-10-02T20:12:54.862945Z"
    }
   },
   "cell_type": "code",
   "source": [
    "\n",
    "df_orig = fraud_df\n",
    "columns = list(df_orig.columns)\n",
    "columns.remove('Class')\n",
    "# bins = np.linspace(min(df_orig[col]), max(df_orig[col]), 50)\n",
    "for col in columns:\n",
    "      minimum = int(math.floor(min(df_orig[col])))\n",
    "      if col == 'Amount':\n",
    "            maximum = int(math.ceil(df_orig[col].mean() + 10*df_orig[col].std()))\n",
    "      else:\n",
    "            maximum = int(df_orig[col].max())\n",
    "      bins = np.linspace(minimum, maximum, 50)\n",
    "\n",
    "      plt.hist(df_orig[col], bins, alpha=0.5, label='0', density=True)\n",
    "      plt.xlabel(col)\n",
    "      plt.ylabel('Probability Density')\n",
    "      plt.title(f'{col} Histogram')\n",
    "      plt.savefig(f'breakdown_plots/Histograms/{col}_hist.png')\n",
    "      plt.clf()"
   ],
   "id": "d0325877df3c32a4",
   "outputs": [
    {
     "data": {
      "text/plain": [
       "<Figure size 640x480 with 0 Axes>"
      ]
     },
     "metadata": {},
     "output_type": "display_data"
    }
   ],
   "execution_count": 25
  },
  {
   "metadata": {
    "ExecuteTime": {
     "end_time": "2025-10-02T20:28:42.140384Z",
     "start_time": "2025-10-02T20:28:37.270462Z"
    }
   },
   "cell_type": "code",
   "source": [
    "from sklearn.model_selection import train_test_split\n",
    "df = fraud_df\n",
    "# Assuming 'df' is your DataFrame and 'target' is the target column\n",
    "# Separate majority and minority classes\n",
    "df_majority = df[df.Class == 0] # Assuming 0 is the majority class\n",
    "df_minority = df[df.Class == 1] # Assuming 1 is the minority class\n",
    "\n",
    "from sklearn.utils import resample\n",
    "\n",
    "# Downsample majority class\n",
    "df_majority_downsampled = resample(df_majority,\n",
    "                                   replace=False,    # sample without replacement\n",
    "                                   n_samples=len(df_minority), # to match minority class size\n",
    "                                   random_state=999)  # for reproducibility\n",
    "\n",
    "# Combine minority class with downsampled majority class\n",
    "df_balanced = pd.concat([df_majority_downsampled, df_minority])"
   ],
   "id": "d489affd14e6dd49",
   "outputs": [],
   "execution_count": 27
  },
  {
   "metadata": {
    "ExecuteTime": {
     "end_time": "2025-10-02T20:28:47.467510Z",
     "start_time": "2025-10-02T20:28:47.443685Z"
    }
   },
   "cell_type": "code",
   "source": "df_balanced.shape",
   "id": "d944ff2c607bc8f9",
   "outputs": [
    {
     "data": {
      "text/plain": [
       "(984, 31)"
      ]
     },
     "execution_count": 28,
     "metadata": {},
     "output_type": "execute_result"
    }
   ],
   "execution_count": 28
  },
  {
   "metadata": {
    "ExecuteTime": {
     "end_time": "2025-10-02T20:29:05.621762Z",
     "start_time": "2025-10-02T20:28:58.264395Z"
    }
   },
   "cell_type": "code",
   "source": [
    "\n",
    "df_orig = df_balanced\n",
    "columns = list(df_orig.columns)\n",
    "columns.remove('Class')\n",
    "# bins = np.linspace(min(df_orig[col]), max(df_orig[col]), 50)\n",
    "for col in columns:\n",
    "      minimum = int(math.floor(min(df_orig[col])))\n",
    "      if col == 'Amount':\n",
    "            maximum = int(math.ceil(df_orig[col].mean() + 10*df_orig[col].std()))\n",
    "      else:\n",
    "            maximum = int(df_orig[col].max())\n",
    "      bins = np.linspace(minimum, maximum, 50)\n",
    "\n",
    "      plt.hist(df_orig[col], bins, alpha=0.5, label='0', density=True)\n",
    "      plt.xlabel(col)\n",
    "      plt.ylabel('Probability Density')\n",
    "      plt.title(f'{col} Histogram')\n",
    "      plt.savefig(f'breakdown_plots/Histograms_Downsample/{col}_hist.png')\n",
    "      plt.clf()"
   ],
   "id": "fd27ca0388e2d62c",
   "outputs": [
    {
     "data": {
      "text/plain": [
       "<Figure size 640x480 with 0 Axes>"
      ]
     },
     "metadata": {},
     "output_type": "display_data"
    }
   ],
   "execution_count": 29
  },
  {
   "metadata": {
    "ExecuteTime": {
     "end_time": "2025-09-23T17:12:14.601921Z",
     "start_time": "2025-09-23T17:12:14.586204Z"
    }
   },
   "cell_type": "code",
   "source": "fraud_df.shape",
   "id": "64a6cda7c620aa8c",
   "outputs": [
    {
     "data": {
      "text/plain": [
       "(284807, 31)"
      ]
     },
     "execution_count": 60,
     "metadata": {},
     "output_type": "execute_result"
    }
   ],
   "execution_count": 60
  },
  {
   "metadata": {
    "ExecuteTime": {
     "end_time": "2025-10-02T20:29:29.073950Z",
     "start_time": "2025-10-02T20:29:16.553950Z"
    }
   },
   "cell_type": "code",
   "source": [
    "\n",
    "df_orig = df_balanced\n",
    "columns = list(df_orig.columns)\n",
    "columns.remove('Class')\n",
    "breakdown_var = 'Class'\n",
    "# bins = np.linspace(min(df_orig[col]), max(df_orig[col]), 50)\n",
    "for col in columns:\n",
    "      minimum = int(math.floor(min(df_orig[col])))\n",
    "      if col == 'Amount':\n",
    "            maximum = int(math.ceil(df_orig[col].mean() + 10*df_orig[col].std()))\n",
    "      else:\n",
    "            maximum = int(df_orig[col].max())\n",
    "      bins = np.linspace(minimum, maximum, 50)\n",
    "      var_list = list(np.unique(df_orig[breakdown_var]))\n",
    "      dict_comp = {}\n",
    "      for var in var_list:\n",
    "          dict_comp[var] = df_orig[df_orig[breakdown_var] == var]\n",
    "      for var in var_list:\n",
    "          plt.hist(dict_comp[var][col], bins, alpha=0.5, label=var, density=True)\n",
    "      plt.legend(loc='upper right')\n",
    "\n",
    "      # plt.savefig('histogram_plots/'+col+'_histogram.png')\n",
    "      # plt.clf()\n",
    "      # plt.hist(df_orig[col], bins, alpha=0.5, label='0', density=True)\n",
    "      plt.xlabel(col)\n",
    "      plt.ylabel('Probability Density')\n",
    "      plt.title(f'{col} Histogram with Downsampled Data')\n",
    "      plt.tight_layout()\n",
    "      # plt.show()\n",
    "      plt.savefig(f'breakdown_plots/Histograms_Downsample_Split/{col}_hist.png')\n",
    "      plt.clf()"
   ],
   "id": "45f6057d45ec6800",
   "outputs": [
    {
     "data": {
      "text/plain": [
       "<Figure size 640x480 with 0 Axes>"
      ]
     },
     "metadata": {},
     "output_type": "display_data"
    }
   ],
   "execution_count": 30
  },
  {
   "metadata": {
    "ExecuteTime": {
     "end_time": "2025-10-03T06:11:15.887106Z",
     "start_time": "2025-10-03T06:11:15.834065Z"
    }
   },
   "cell_type": "code",
   "source": [
    "from sklearn.model_selection import train_test_split\n",
    "\n",
    "df_orig_bal = df_balanced\n",
    "columns = list(df_orig_bal.columns)\n",
    "columns.remove('Class')\n",
    "# Separate features (X) and target variable (y)\n",
    "X = df_orig_bal[columns]\n",
    "y = df_orig_bal['Class']\n",
    "\n",
    "# 2. Split the data into training and testing sets\n",
    "X_train, X_test, y_train, y_test = train_test_split(\n",
    "    X, y, test_size=0.1, random_state=999, stratify=y\n",
    ")"
   ],
   "id": "a8fba66c95b5807e",
   "outputs": [],
   "execution_count": 43
  },
  {
   "metadata": {
    "ExecuteTime": {
     "end_time": "2025-10-02T20:29:44.802224Z",
     "start_time": "2025-10-02T20:29:44.786150Z"
    }
   },
   "cell_type": "code",
   "source": "X_train.shape",
   "id": "96b39961540af275",
   "outputs": [
    {
     "data": {
      "text/plain": [
       "(885, 30)"
      ]
     },
     "execution_count": 33,
     "metadata": {},
     "output_type": "execute_result"
    }
   ],
   "execution_count": 33
  },
  {
   "metadata": {
    "ExecuteTime": {
     "end_time": "2025-10-03T06:11:35.034018Z",
     "start_time": "2025-10-03T06:11:33.753253Z"
    }
   },
   "cell_type": "code",
   "source": [
    "from sklearn.ensemble import RandomForestClassifier\n",
    "\n",
    "model = RandomForestClassifier(n_estimators=100, random_state=999)\n",
    "model.fit(X_train, y_train)\n",
    "\n",
    "feature_names = columns\n",
    "# 4. Access feature importances\n",
    "importances = model.feature_importances_\n",
    "# 5. Create a DataFrame for better visualization and sorting\n",
    "feature_importance_df = pd.DataFrame({'Feature': feature_names, 'Importance': importances})\n",
    "\n",
    "# 6. Sort features by importance in descending order\n",
    "feature_importance_df = feature_importance_df.sort_values(by='Importance', ascending=False)\n",
    "\n",
    "# 7. Print or visualize the ranked features\n",
    "print(\"Ranked Feature Importances:\")\n",
    "print(feature_importance_df)\n",
    "\n",
    "feature_importances = pd.Series(importances, index=feature_names).sort_values(ascending=False)\n",
    "feature_importances.plot.bar()\n",
    "plt.title('Feature Importance from Decision Tree')\n",
    "plt.xlabel('Features')\n",
    "plt.ylabel('Importance Score')\n",
    "plt.xticks(rotation=45, ha='right')\n",
    "plt.tight_layout()\n",
    "\n",
    "# plt.savefig(f'feature_scores.png')\n",
    "plt.show()\n"
   ],
   "id": "ba1324fc9d4cdc21",
   "outputs": [
    {
     "name": "stdout",
     "output_type": "stream",
     "text": [
      "Ranked Feature Importances:\n",
      "   Feature  Importance\n",
      "14     V14    0.192361\n",
      "10     V10    0.131596\n",
      "4       V4    0.095359\n",
      "11     V11    0.067816\n",
      "12     V12    0.067116\n",
      "17     V17    0.056858\n",
      "16     V16    0.050040\n",
      "3       V3    0.049879\n",
      "9       V9    0.038066\n",
      "2       V2    0.031352\n",
      "7       V7    0.028320\n",
      "27     V27    0.018872\n",
      "18     V18    0.017905\n",
      "21     V21    0.016670\n",
      "8       V8    0.013683\n",
      "6       V6    0.013631\n",
      "19     V19    0.013144\n",
      "29  Amount    0.011860\n",
      "20     V20    0.010855\n",
      "28     V28    0.009614\n",
      "23     V23    0.007850\n",
      "5       V5    0.007610\n",
      "15     V15    0.007202\n",
      "1       V1    0.006601\n",
      "26     V26    0.006537\n",
      "24     V24    0.006347\n",
      "22     V22    0.006251\n",
      "13     V13    0.006013\n",
      "0     Time    0.005567\n",
      "25     V25    0.005023\n"
     ]
    },
    {
     "data": {
      "text/plain": [
       "<Figure size 640x480 with 1 Axes>"
      ],
      "image/png": "[encoded data removed]"
     },
     "metadata": {},
     "output_type": "display_data"
    }
   ],
   "execution_count": 44
  },
  {
   "metadata": {},
   "cell_type": "markdown",
   "source": [
    "Now based on looking at this in combination with the histograms I created, the last variable that seems to have differentiating behaviour on the Class variable is V19.  As such I will remove all the variables Amount and onwards from our list of variables.\n",
    "\n",
    "This can be done differently, and more scientifically.  For example one can train the model for each separate list of variables including one more at a time.  Something like Forward or Backward Stepwise Selection methods.  And one doesn't have to use this metric either.\n",
    "\n",
    "To save myself some time though, I'm just trying to get a half decent result relatively quickly and this is what I'm choosing to do."
   ],
   "id": "6fa9de647d2247b3"
  },
  {
   "metadata": {
    "ExecuteTime": {
     "end_time": "2025-10-03T06:11:49.075058Z",
     "start_time": "2025-10-03T06:11:49.062828Z"
    }
   },
   "cell_type": "code",
   "source": [
    "final_feature_list = list(feature_importance_df[feature_importance_df.Importance > 0.0119].Feature)\n",
    "X_train2 = X_train[final_feature_list]\n",
    "X_test2 = X_test[final_feature_list]"
   ],
   "id": "799184ba39d1a8cc",
   "outputs": [],
   "execution_count": 45
  },
  {
   "metadata": {},
   "cell_type": "markdown",
   "source": "Perform Random Forest",
   "id": "2bd3aac303515db1"
  },
  {
   "metadata": {
    "ExecuteTime": {
     "end_time": "2025-10-03T06:29:42.062681Z",
     "start_time": "2025-10-03T06:26:29.859695Z"
    }
   },
   "cell_type": "code",
   "source": [
    "from sklearn.model_selection import KFold, cross_val_score, StratifiedKFold, RandomizedSearchCV\n",
    "from sklearn.ensemble import RandomForestClassifier\n",
    "\n",
    "import xgboost as xgb\n",
    "from sklearn.datasets import make_classification\n",
    "import scipy.stats as stats\n",
    "\n",
    "\n",
    "random_grid = {'bootstrap': [True],\n",
    "               'max_depth': [3, 5, 10, None],\n",
    "               'max_features': ['sqrt'],\n",
    "               'min_samples_leaf': [2, 4, 6, 8],\n",
    "               'min_samples_split': [2, 3, 4],\n",
    "               'n_estimators': [100, 150, 200]}\n",
    "\n",
    "\n",
    "rf = RandomForestClassifier()\n",
    "\n",
    "rf_random = RandomizedSearchCV(\n",
    "    estimator=rf,\n",
    "    param_distributions=random_grid,\n",
    "    n_iter=100,  # Number of random combinations to try\n",
    "    cv=StratifiedKFold(n_splits=5, shuffle=True, random_state=999),\n",
    "    scoring='f1',\n",
    "    random_state=999,\n",
    "    n_jobs=-1,\n",
    "    verbose=0\n",
    ")\n",
    "# Fit the random search model\n",
    "rf_random.fit(X_train2, y_train)\n",
    "\n",
    "print(rf_random.best_params_)\n",
    "print(rf_random.best_score_)\n",
    "print(rf_random.best_estimator_)\n",
    "\n",
    "# Evaluate the best model on the test set\n",
    "best_model_rf = rf_random.best_estimator_\n",
    "test_accuracy_rf = best_model_rf.score(X_test2, y_test)\n",
    "print(\"Test set f1-score with best model:\", test_accuracy_rf)"
   ],
   "id": "826bb55f72c2e66b",
   "outputs": [
    {
     "name": "stdout",
     "output_type": "stream",
     "text": [
      "{'n_estimators': 150, 'min_samples_split': 4, 'min_samples_leaf': 4, 'max_features': 'sqrt', 'max_depth': None, 'bootstrap': True}\n",
      "0.9378646116867053\n",
      "RandomForestClassifier(min_samples_leaf=4, min_samples_split=4,\n",
      "                       n_estimators=150)\n",
      "Test set f1-score with best model: 0.9494949494949495\n"
     ]
    }
   ],
   "execution_count": 54
  },
  {
   "metadata": {},
   "cell_type": "markdown",
   "source": [
    "Random Forest - best choice of hyperparameters: {'n_estimators': 200, 'min_samples_split': 3, 'min_samples_leaf': 2, 'max_features': 'sqrt', 'max_depth': None, 'bootstrap': True}\n",
    "94.23% CV (5-fold) accuracy on a downsampled data set that is split 50-50, that's pretty darned good.\n",
    "\n",
    "F1-Score CV: 0.9378\n",
    "\n",
    "On the test set this performs close to 95% accurate, but this is close to the CV average of 93.93%."
   ],
   "id": "a775c8889683a2c5"
  },
  {
   "metadata": {},
   "cell_type": "markdown",
   "source": "Perform XGBoost.",
   "id": "8cb4484f91179a43"
  },
  {
   "metadata": {
    "ExecuteTime": {
     "end_time": "2025-10-03T06:30:13.779621Z",
     "start_time": "2025-10-03T06:29:42.123523Z"
    }
   },
   "cell_type": "code",
   "source": [
    "# begin by standardizing variables\n",
    "mean_vals = X_train2.mean()\n",
    "std_vals = X_train2.std()\n",
    "X_train_std = (X_train2 - mean_vals)/std_vals\n",
    "X_test_std = (X_test2 - mean_vals)/std_vals\n",
    "# Define the XGBoost model\n",
    "xgb_model = xgb.XGBClassifier(objective='binary:logistic', eval_metric='logloss')\n",
    "\n",
    "# Define the hyperparameter distributions for RandomizedSearchCV\n",
    "# Using scipy.stats distributions for continuous parameters\n",
    "param_dist = {\n",
    "    'n_estimators': stats.randint(100, 500),  # Number of boosting rounds\n",
    "    'learning_rate': stats.uniform(0.01, 0.2),  # Step size shrinkage\n",
    "    'max_depth': stats.randint(3, 10),  # Maximum depth of a tree\n",
    "    'subsample': stats.uniform(0.6, 0.4),  # Subsample ratio of the training instance\n",
    "    'colsample_bytree': stats.uniform(0.6, 0.4),  # Subsample ratio of columns when constructing each tree\n",
    "    'gamma': stats.uniform(0, 0.2),  # Minimum loss reduction required to make a further partition\n",
    "    'reg_alpha': stats.uniform(0, 0.1),  # L1 regularization term on weights\n",
    "    'reg_lambda': stats.uniform(0, 1)  # L2 regularization term on weights\n",
    "}\n",
    "\n",
    "random_search_xgb = RandomizedSearchCV(\n",
    "    estimator=xgb_model,\n",
    "    param_distributions=param_dist,\n",
    "    n_iter=50,  # Number of random combinations to try\n",
    "    cv=StratifiedKFold(n_splits=5, shuffle=True, random_state=999),\n",
    "    scoring='f1',\n",
    "    # scoring='average_precision',\n",
    "    random_state=999,\n",
    "    n_jobs=-1,\n",
    "    verbose=0\n",
    ")\n",
    "\n",
    "random_search_xgb.fit(X_train_std, y_train)\n",
    "\n",
    "print(\"\\nBest set of hyperparameters:\", random_search_xgb.best_params_)\n",
    "print(\"Best cross-validation score:\", random_search_xgb.best_score_)\n",
    "print(\"Best cross-validation estimator:\", random_search_xgb.best_estimator_)\n",
    "\n",
    "# Evaluate the best model on the test set\n",
    "best_model_xgb = random_search_xgb.best_estimator_\n",
    "\n",
    "from sklearn.metrics import average_precision_score\n",
    "# auprc = average_precision_score(y_test, best_model_xgb.predict(X_test_std.to_numpy()))\n",
    "test_accuracy_xgb = best_model_xgb.score(X_test_std, y_test)\n",
    "print(\"Test set f1-score with best model:\", test_accuracy_xgb)\n",
    "\n",
    "from sklearn.metrics import confusion_matrix\n",
    "cm = confusion_matrix(y_test,  best_model_xgb.predict(X_test_std.to_numpy()))\n",
    "print(cm)\n"
   ],
   "id": "1e1774906545b94f",
   "outputs": [
    {
     "name": "stdout",
     "output_type": "stream",
     "text": [
      "\n",
      "Best set of hyperparameters: {'colsample_bytree': 0.65234695245181, 'gamma': 0.16350242907332466, 'learning_rate': 0.16604690153357163, 'max_depth': 5, 'n_estimators': 120, 'reg_alpha': 0.02104653543525822, 'reg_lambda': 0.9347011734414674, 'subsample': 0.6494923628434196}\n",
      "Best cross-validation score: 0.9424763585770009\n",
      "Best cross-validation estimator: XGBClassifier(base_score=None, booster=None, callbacks=None,\n",
      "              colsample_bylevel=None, colsample_bynode=None,\n",
      "              colsample_bytree=0.65234695245181, device=None,\n",
      "              early_stopping_rounds=None, enable_categorical=False,\n",
      "              eval_metric='logloss', feature_types=None, feature_weights=None,\n",
      "              gamma=0.16350242907332466, grow_policy=None, importance_type=None,\n",
      "              interaction_constraints=None, learning_rate=0.16604690153357163,\n",
      "              max_bin=None, max_cat_threshold=None, max_cat_to_onehot=None,\n",
      "              max_delta_step=None, max_depth=5, max_leaves=None,\n",
      "              min_child_weight=None, missing=nan, monotone_constraints=None,\n",
      "              multi_strategy=None, n_estimators=120, n_jobs=None,\n",
      "              num_parallel_tree=None, ...)\n",
      "Test set f1-score with best model: 0.9393939393939394\n",
      "[[49  1]\n",
      " [ 5 44]]\n"
     ]
    }
   ],
   "execution_count": 55
  },
  {
   "metadata": {},
   "cell_type": "markdown",
   "source": [
    "XGBoost seems to perform a little better than random forest with approximately 94.35% CV (5-fold) accuracy.\n",
    "\n",
    "F1-Score CV: 0.9424\n",
    "\n",
    "The best AUPRC score averaged over 5-fold CV is: 0.9860\n",
    "\n",
    "On the test set the AUPRC is 0.9285"
   ],
   "id": "226a83088ac90e58"
  },
  {
   "metadata": {},
   "cell_type": "markdown",
   "source": "Perform Logistic Regression",
   "id": "b51ff5f8a6483329"
  },
  {
   "metadata": {
    "ExecuteTime": {
     "end_time": "2025-10-03T06:30:15.584512Z",
     "start_time": "2025-10-03T06:30:13.821857Z"
    }
   },
   "cell_type": "code",
   "source": [
    "from sklearn.linear_model import LogisticRegression\n",
    "from sklearn.model_selection import StratifiedKFold\n",
    "from scipy.stats import loguniform\n",
    "\n",
    "# begin by standardizing variables\n",
    "mean_vals = X_train2.mean()\n",
    "std_vals = X_train2.std()\n",
    "X_train_std = (X_train2 - mean_vals)/std_vals\n",
    "X_test_std = (X_test2 - mean_vals)/std_vals\n",
    "# Define the log reg model\n",
    "logistic_regression = LogisticRegression(solver='liblinear', random_state=999)\n",
    "\n",
    "# Define the hyperparameter distributions for RandomizedSearchCV\n",
    "# Using scipy.stats distributions for continuous parameters\n",
    "param_distributions = {\n",
    "    'C': loguniform(1e-5, 100),  # Regularization strength\n",
    "    'penalty': ['l1', 'l2']      # Regularization type\n",
    "}\n",
    "\n",
    "random_search_log = RandomizedSearchCV(\n",
    "    estimator=logistic_regression,\n",
    "    param_distributions=param_distributions,\n",
    "    n_iter=50,  # Number of random combinations to try\n",
    "    cv=StratifiedKFold(n_splits=5, shuffle=True, random_state=999),\n",
    "    # scoring='accuracy',\n",
    "    scoring='f1',\n",
    "    random_state=999,\n",
    "    n_jobs=-1,\n",
    "    verbose=0\n",
    ")\n",
    "\n",
    "random_search_log.fit(X_train_std, y_train)\n",
    "\n",
    "print(\"\\nBest set of hyperparameters:\", random_search_log.best_params_)\n",
    "print(\"Best cross-validation score:\", random_search_log.best_score_)\n",
    "print(\"Best cross-validation estimator:\", random_search_log.best_estimator_)\n",
    "\n",
    "# Evaluate the best model on the test set\n",
    "best_model_log = random_search_log.best_estimator_\n",
    "test_accuracy_log = best_model_log.score(X_test_std, y_test)\n",
    "print(\"Test set f1 score with best model:\", test_accuracy_log)\n"
   ],
   "id": "b6f6604297a47e2e",
   "outputs": [
    {
     "name": "stdout",
     "output_type": "stream",
     "text": [
      "\n",
      "Best set of hyperparameters: {'C': 1.041022459301857, 'penalty': 'l2'}\n",
      "Best cross-validation score: 0.9425875401915034\n",
      "Best cross-validation estimator: LogisticRegression(C=1.041022459301857, random_state=999, solver='liblinear')\n",
      "Test set f1 score with best model: 0.9595959595959596\n"
     ]
    }
   ],
   "execution_count": 56
  },
  {
   "metadata": {},
   "cell_type": "markdown",
   "source": [
    "Logistic regression has an excellent CV (5-fold) accuracy score of 94.46327%.\n",
    "\n",
    "F1-Score CV: 0.9425\n",
    "\n",
    "The best AUPRC score averaged over 5-fold CV is: 0.9854.\n",
    "\n",
    "On test data performs with AUPRC of 0.9393."
   ],
   "id": "4cd85a620a00d41a"
  },
  {
   "metadata": {},
   "cell_type": "markdown",
   "source": "Perform Naive Bayes",
   "id": "c00a1cd5c40266a2"
  },
  {
   "metadata": {
    "ExecuteTime": {
     "end_time": "2025-10-03T06:30:17.673676Z",
     "start_time": "2025-10-03T06:30:15.610911Z"
    }
   },
   "cell_type": "code",
   "source": [
    "from sklearn.naive_bayes import BernoulliNB\n",
    "\n",
    "from sklearn.linear_model import LogisticRegression\n",
    "from sklearn.model_selection import StratifiedKFold\n",
    "from scipy.stats import loguniform\n",
    "\n",
    "# begin by standardizing variables\n",
    "mean_vals = X_train2.mean()\n",
    "std_vals = X_train2.std()\n",
    "X_train_std = (X_train2 - mean_vals)/std_vals\n",
    "X_test_std = (X_test2 - mean_vals)/std_vals\n",
    "# Define the Bernoulli Naive Bayes (good for binary classification) model\n",
    "bnb = BernoulliNB()\n",
    "\n",
    "# Define the hyperparameter search space for alpha (Laplace smoothing parameter)\n",
    "# A log-uniform distribution is often suitable for 'alpha'\n",
    "param_distributions = {\n",
    "    'alpha': loguniform.rvs(1e-3, 1e2, size=200) # Example range for alpha\n",
    "}\n",
    "\n",
    "random_search_nb = RandomizedSearchCV(\n",
    "    estimator=bnb,\n",
    "    param_distributions=param_distributions,\n",
    "    n_iter=50,  # Number of random combinations to try\n",
    "    cv=StratifiedKFold(n_splits=5, shuffle=True, random_state=999),\n",
    "    # scoring='accuracy',\n",
    "    scoring='f1',\n",
    "    random_state=999,\n",
    "    n_jobs=-1,\n",
    "    verbose=0\n",
    ")\n",
    "\n",
    "random_search_nb.fit(X_train_std, y_train)\n",
    "\n",
    "print(\"\\nBest set of hyperparameters:\", random_search_nb.best_params_)\n",
    "print(\"Best cross-validation score:\", random_search_nb.best_score_)\n",
    "print(\"Best cross-validation estimator:\", random_search_nb.best_estimator_)\n",
    "\n",
    "# Evaluate the best model on the test set\n",
    "best_model_nb = random_search_nb.best_estimator_\n",
    "test_accuracy_nb = best_model_nb.score(X_test_std, y_test)\n",
    "print(\"Test set f1 score with best model:\", test_accuracy_nb)\n"
   ],
   "id": "b2185c328bf6e254",
   "outputs": [
    {
     "name": "stdout",
     "output_type": "stream",
     "text": [
      "\n",
      "Best set of hyperparameters: {'alpha': 0.10381610957451365}\n",
      "Best cross-validation score: 0.9035800661022005\n",
      "Best cross-validation estimator: BernoulliNB(alpha=0.10381610957451365)\n",
      "Test set f1 score with best model: 0.9090909090909091\n"
     ]
    }
   ],
   "execution_count": 57
  },
  {
   "metadata": {},
   "cell_type": "markdown",
   "source": [
    "Naive Bayes doesn't perform as well as Random forest, XGBoost or Logistic regression with about 91.2% accuracy.\n",
    "\n",
    "F1-Score CV: 0.9036"
   ],
   "id": "104d6a912b6ae33"
  },
  {
   "metadata": {},
   "cell_type": "markdown",
   "source": "Perform Support Vector Classification",
   "id": "f70cc46e43105528"
  },
  {
   "metadata": {
    "ExecuteTime": {
     "end_time": "2025-10-03T06:30:34.293387Z",
     "start_time": "2025-10-03T06:30:17.690585Z"
    }
   },
   "cell_type": "code",
   "source": [
    "from sklearn.svm import SVC\n",
    "from sklearn.model_selection import StratifiedKFold\n",
    "from scipy.stats import loguniform\n",
    "\n",
    "# begin by standardizing variables\n",
    "mean_vals = X_train2.mean()\n",
    "std_vals = X_train2.std()\n",
    "X_train_std = (X_train2 - mean_vals)/std_vals\n",
    "X_test_std = (X_test2 - mean_vals)/std_vals\n",
    "# Define the Support Vector Classification model\n",
    "svc = SVC(random_state=999)\n",
    "\n",
    "param_distributions = {\n",
    "    'C': loguniform(1e-3, 1e3),  # C can range from 0.001 to 1000 on a log scale\n",
    "    'gamma': loguniform(1e-4, 1e-1), # gamma can range from 0.0001 to 0.1 on a log scale\n",
    "    'kernel': ['rbf', 'linear'] # Example: trying different kernels\n",
    "}\n",
    "\n",
    "random_search_svc = RandomizedSearchCV(\n",
    "    estimator=svc,\n",
    "    param_distributions=param_distributions,\n",
    "    n_iter=50,  # Number of random combinations to try\n",
    "    cv=StratifiedKFold(n_splits=5, shuffle=True, random_state=999),\n",
    "    scoring='f1',\n",
    "    # scoring='average_precision',\n",
    "    random_state=999,\n",
    "    n_jobs=-1,\n",
    "    verbose=0\n",
    ")\n",
    "\n",
    "random_search_svc.fit(X_train_std, y_train)\n",
    "\n",
    "print(\"\\nBest set of hyperparameters:\", random_search_svc.best_params_)\n",
    "print(\"Best cross-validation score:\", random_search_svc.best_score_)\n",
    "print(\"Best cross-validation estimator:\", random_search_svc.best_estimator_)\n",
    "\n",
    "# Evaluate the best model on the test set\n",
    "best_model_svc = random_search_svc.best_estimator_\n",
    "test_accuracy_svc = best_model_svc.score(X_test_std, y_test)\n",
    "print(\"Test set f1 score with best model:\", test_accuracy_svc)\n"
   ],
   "id": "ecade776df180c60",
   "outputs": [
    {
     "name": "stdout",
     "output_type": "stream",
     "text": [
      "\n",
      "Best set of hyperparameters: {'C': 1.2249995127472268, 'gamma': 0.0037039528862068648, 'kernel': 'linear'}\n",
      "Best cross-validation score: 0.9393227455165579\n",
      "Best cross-validation estimator: SVC(C=1.2249995127472268, gamma=0.0037039528862068648, kernel='linear',\n",
      "    random_state=999)\n",
      "Test set f1 score with best model: 0.9595959595959596\n"
     ]
    }
   ],
   "execution_count": 58
  },
  {
   "metadata": {},
   "cell_type": "markdown",
   "source": [
    "Support Vector Classification performs quite well too, with over 94% accuracy.\n",
    "\n",
    "F1-Score CV: 0.9393\n",
    "\n",
    "Average AUPRC of best model is 0.9858.  On the test set it's 0.9494.\n",
    "\n",
    "The best performing models are Random Forest, XGBoost, Logistic Regression and Support Vector Classification.\n",
    "\n",
    "I want to see how hard voting works here when used on XGBoost, Logistic Regression and Support Vector Classification.  I've removed Random Forest because it inherently will behave similarly to XGBoost and we want predictors with differing methodologies."
   ],
   "id": "beaa3dbef67d9b13"
  },
  {
   "metadata": {
    "ExecuteTime": {
     "end_time": "2025-10-03T06:24:54.159715Z",
     "start_time": "2025-10-03T06:24:51.134246Z"
    }
   },
   "cell_type": "code",
   "source": [
    "from sklearn.ensemble import VotingClassifier\n",
    "from sklearn.metrics import accuracy_score, f1_score\n",
    "model1 = best_model_xgb\n",
    "model2 = best_model_log\n",
    "model3 = best_model_svc\n",
    "# SVC?\n",
    "# Create a VotingClassifier\n",
    "# Hard Voting\n",
    "\n",
    "ensemble_model = VotingClassifier(\n",
    "    estimators=[('xgb', model1), ('log', model2), ('SVC', model3)],\n",
    "    voting='hard'  # 'hard' for majority voting (class with most votes)\n",
    ")\n",
    "\n",
    "\n",
    "scores_hard = cross_val_score(ensemble_model, X_train_std, y_train,\n",
    "                              cv=StratifiedKFold(n_splits=5, shuffle=True, random_state=999),\n",
    "                              scoring='f1'\n",
    "                              # scoring='roc_auc_ovr'\n",
    "                              )\n",
    "print(f\"Hard Voting Classifier Accuracy (Cross-Validation): \"\n",
    "      f\"{np.mean(scores_hard):.4f} +/- {np.std(scores_hard):.4f}\")\n",
    "\n",
    "\n",
    "ensemble_model.fit(X_train_std, y_train)\n",
    "\n",
    "y_pred_ensemble = ensemble_model.predict(X_test_std)\n",
    "# Evaluate the ensemble model\n",
    "ensemble_accuracy = accuracy_score(y_test, y_pred_ensemble)\n",
    "print(f\"Ensemble Model Accuracy on test set (Hard Voting): {ensemble_accuracy:.4f}\")\n",
    "ensemble_f1_score = f1_score(y_test, y_pred_ensemble)\n",
    "print(f\"Ensemble Model F1-Score on test set (Hard Voting): {ensemble_f1_score:.4f}\")\n"
   ],
   "id": "585413297e424f54",
   "outputs": [
    {
     "name": "stdout",
     "output_type": "stream",
     "text": [
      "Hard Voting Classifier Accuracy (Cross-Validation): 0.9427 +/- 0.0098\n",
      "Ensemble Model Accuracy on test set (Hard Voting): 0.9596\n",
      "Ensemble Model F1-Score on test set (Hard Voting): 0.9574\n"
     ]
    }
   ],
   "execution_count": 52
  },
  {
   "metadata": {},
   "cell_type": "markdown",
   "source": [
    "The average cross validation score ties the best performing model which is Logistic Regression.\n",
    "\n",
    "The result on the test set is better only by a very small amount."
   ],
   "id": "8bb131c594c8b14b"
  },
  {
   "metadata": {
    "ExecuteTime": {
     "end_time": "2025-09-24T05:38:14.910972Z",
     "start_time": "2025-09-24T05:38:14.881768Z"
    }
   },
   "cell_type": "code",
   "source": [
    "from sklearn.metrics import average_precision_score\n",
    "auprc = average_precision_score(y_test, y_pred_ensemble)\n",
    "print(auprc)\n",
    "\n",
    "from sklearn.metrics import confusion_matrix\n",
    "cm = confusion_matrix(y_test, y_pred_ensemble)\n",
    "print(cm)\n",
    "\n",
    "from sklearn.metrics import confusion_matrix\n",
    "cm = confusion_matrix(y_test,  best_model_log.predict(X_test_std.to_numpy()))\n",
    "print(cm)"
   ],
   "id": "7f7d419001216d50",
   "outputs": [
    {
     "name": "stdout",
     "output_type": "stream",
     "text": [
      "0.958771387342816\n",
      "[[50  0]\n",
      " [ 4 45]]\n",
      "[[50  0]\n",
      " [ 6 43]]\n"
     ]
    }
   ],
   "execution_count": 141
  },
  {
   "metadata": {
    "ExecuteTime": {
     "end_time": "2025-10-03T07:24:42.534175Z",
     "start_time": "2025-10-03T07:24:35.408434Z"
    }
   },
   "cell_type": "code",
   "source": [
    "import numpy as np\n",
    "import pandas as pd\n",
    "from sklearn.model_selection import StratifiedKFold\n",
    "from sklearn.preprocessing import StandardScaler\n",
    "from tensorflow.keras.models import Sequential\n",
    "from tensorflow.keras.layers import Dense, Input\n",
    "from tensorflow.keras.metrics import F1Score\n",
    "from sklearn.model_selection import train_test_split\n",
    "\n",
    "from sklearn.metrics import accuracy_score, f1_score\n",
    "\n",
    "\n",
    "X_train_temp, X_test_temp, y_train_temp, y_test_temp = train_test_split(X_train_std, y_train, test_size=0.20, random_state=999)\n",
    "\n",
    "model = Sequential()\n",
    "model.add(Input(shape=(X_train_temp.shape[1],)))  # Explicitly define the input layer\n",
    "model.add(Dense(units=32, activation='relu'))\n",
    "model.add(Dense(units=10, activation='softmax'))\n",
    "model.add(Dense(units=1, activation='sigmoid'))\n",
    "model.compile(optimizer='adam', loss='binary_crossentropy', metrics=[F1Score()])\n",
    "\n",
    "\n",
    "# 4. Train the model\n",
    "print(\"Training the model...\")\n",
    "history = model.fit(X_train_temp, y_train_temp, epochs=5, batch_size=32,\n",
    "                    validation_split=0.1, verbose=0)\n",
    "\n",
    "# 5. Evaluate the model on test data\n",
    "print(\"\\nEvaluating the model on test data...\")\n",
    "loss, accuracy = model.evaluate(X_test_temp, y_test_temp, verbose=0)\n",
    "print(f\"Test Loss: {loss:.4f}\")\n",
    "print(f\"Test F1-Score: {accuracy:.4f}\")\n",
    "\n",
    "predictions_all = model.predict(X_test_temp, verbose=0)\n",
    "nn_f1_score = f1_score(y_test_temp, predictions_all.round())\n",
    "print(f\"NN Model F1-Score on test set: {nn_f1_score:.4f}\")\n",
    "\n",
    "# 6. Make predictions\n",
    "print(\"\\nMaking predictions on a few test samples...\")\n",
    "predictions = model.predict(X_test_temp[:5], verbose=0)\n",
    "predicted_classes = predictions.round()\n",
    "true_classes = y_test_temp[:5]\n",
    "\n",
    "for i in range(5):\n",
    "    print(f\"Sample {i+1}: Predicted: {predicted_classes[i][0]}, True: {list(true_classes)[i]}\")\n",
    "\n",
    "\n"
   ],
   "id": "5672a94733a56833",
   "outputs": [
    {
     "name": "stdout",
     "output_type": "stream",
     "text": [
      "Training the model...\n",
      "\n",
      "Evaluating the model on test data...\n",
      "Test Loss: 0.5323\n",
      "Test F1-Score: 0.6332\n",
      "NN Model F1-Score on test set: 0.8784\n",
      "\n",
      "Making predictions on a few test samples...\n",
      "Sample 1: Predicted: 0.0, True: 0\n",
      "Sample 2: Predicted: 0.0, True: 0\n",
      "Sample 3: Predicted: 1.0, True: 1\n",
      "Sample 4: Predicted: 1.0, True: 1\n",
      "Sample 5: Predicted: 0.0, True: 1\n"
     ]
    }
   ],
   "execution_count": 110
  },
  {
   "metadata": {
    "ExecuteTime": {
     "end_time": "2025-10-03T07:08:31.038378Z",
     "start_time": "2025-10-03T07:08:31.026188Z"
    }
   },
   "cell_type": "code",
   "source": "list(true_classes)[i]",
   "id": "5a2a5080bde41d52",
   "outputs": [
    {
     "data": {
      "text/plain": [
       "0"
      ]
     },
     "execution_count": 96,
     "metadata": {},
     "output_type": "execute_result"
    }
   ],
   "execution_count": 96
  },
  {
   "metadata": {
    "ExecuteTime": {
     "end_time": "2025-10-03T06:50:24.189873Z",
     "start_time": "2025-10-03T06:49:26.447091Z"
    }
   },
   "cell_type": "code",
   "source": [
    "import numpy as np\n",
    "import pandas as pd\n",
    "from sklearn.model_selection import StratifiedKFold\n",
    "from sklearn.preprocessing import StandardScaler\n",
    "from tensorflow.keras.models import Sequential\n",
    "from tensorflow.keras.layers import Dense\n",
    "from tensorflow.keras.metrics import F1Score\n",
    "\n",
    "\n",
    "# 2. Define the neural network model\n",
    "def create_model(input_dim):\n",
    "    model = Sequential([\n",
    "        Dense(32, activation='relu', input_shape=(input_dim,)),\n",
    "        Dense(16, activation='relu'),\n",
    "        Dense(1, activation='sigmoid')\n",
    "    ])\n",
    "    model.compile(optimizer='adam', loss='binary_crossentropy', metrics=[F1Score()])\n",
    "    return model\n",
    "\n",
    "# 3. K-Fold Cross-Validation\n",
    "n_splits = 5  # Number of folds\n",
    "skf = StratifiedKFold(n_splits=n_splits, shuffle=True, random_state=42)\n",
    "\n",
    "fold_accuracies = []\n",
    "\n",
    "for fold, (train_index, val_index) in enumerate(skf.split(X_train_std, y_train)):\n",
    "    print(f\"--- Fold {fold + 1}/{n_splits} ---\")\n",
    "    X_train_temp, X_val = X_train_std.iloc[list(train_index)], X_train_std.iloc[list(val_index)]\n",
    "    y_train_temp, y_val = y_train.iloc[list(train_index)], y_train.iloc[list(val_index)]\n",
    "\n",
    "    model = create_model(X_train_temp.shape[1])\n",
    "    model.fit(X_train_temp, y_train_temp, epochs=50, batch_size=16, verbose=0) # verbose=0 to suppress output\n",
    "\n",
    "    loss, accuracy = model.evaluate(X_val, y_val, verbose=0)\n",
    "    print(f\"Validation F1-Score: {accuracy:.4f}\")\n",
    "    fold_accuracies.append(accuracy)\n",
    "\n",
    "# Summarize results\n",
    "print(\"\\n--- Cross-Validation Results ---\")\n",
    "print(f\"Average Accuracy: {np.mean(fold_accuracies):.4f}\")\n",
    "print(f\"Standard Deviation of Accuracy: {np.std(fold_accuracies):.4f}\")\n"
   ],
   "id": "e913ef2add29d57d",
   "outputs": [
    {
     "name": "stdout",
     "output_type": "stream",
     "text": [
      "--- Fold 1/5 ---\n"
     ]
    },
    {
     "name": "stderr",
     "output_type": "stream",
     "text": [
      "/Users/Ben/PycharmProjects/.venv1/lib/python3.12/site-packages/keras/src/layers/core/dense.py:92: UserWarning: Do not pass an `input_shape`/`input_dim` argument to a layer. When using Sequential models, prefer using an `Input(shape)` object as the first layer in the model instead.\n",
      "  super().__init__(activity_regularizer=activity_regularizer, **kwargs)\n"
     ]
    },
    {
     "name": "stdout",
     "output_type": "stream",
     "text": [
      "Validation F1-Score: 0.6692\n",
      "--- Fold 2/5 ---\n"
     ]
    },
    {
     "name": "stderr",
     "output_type": "stream",
     "text": [
      "/Users/Ben/PycharmProjects/.venv1/lib/python3.12/site-packages/keras/src/layers/core/dense.py:92: UserWarning: Do not pass an `input_shape`/`input_dim` argument to a layer. When using Sequential models, prefer using an `Input(shape)` object as the first layer in the model instead.\n",
      "  super().__init__(activity_regularizer=activity_regularizer, **kwargs)\n"
     ]
    },
    {
     "name": "stdout",
     "output_type": "stream",
     "text": [
      "Validation F1-Score: 0.6692\n",
      "--- Fold 3/5 ---\n"
     ]
    },
    {
     "name": "stderr",
     "output_type": "stream",
     "text": [
      "/Users/Ben/PycharmProjects/.venv1/lib/python3.12/site-packages/keras/src/layers/core/dense.py:92: UserWarning: Do not pass an `input_shape`/`input_dim` argument to a layer. When using Sequential models, prefer using an `Input(shape)` object as the first layer in the model instead.\n",
      "  super().__init__(activity_regularizer=activity_regularizer, **kwargs)\n"
     ]
    },
    {
     "name": "stdout",
     "output_type": "stream",
     "text": [
      "Validation F1-Score: 0.6692\n",
      "--- Fold 4/5 ---\n"
     ]
    },
    {
     "name": "stderr",
     "output_type": "stream",
     "text": [
      "/Users/Ben/PycharmProjects/.venv1/lib/python3.12/site-packages/keras/src/layers/core/dense.py:92: UserWarning: Do not pass an `input_shape`/`input_dim` argument to a layer. When using Sequential models, prefer using an `Input(shape)` object as the first layer in the model instead.\n",
      "  super().__init__(activity_regularizer=activity_regularizer, **kwargs)\n"
     ]
    },
    {
     "name": "stdout",
     "output_type": "stream",
     "text": [
      "Validation F1-Score: 0.6642\n",
      "--- Fold 5/5 ---\n"
     ]
    },
    {
     "name": "stderr",
     "output_type": "stream",
     "text": [
      "/Users/Ben/PycharmProjects/.venv1/lib/python3.12/site-packages/keras/src/layers/core/dense.py:92: UserWarning: Do not pass an `input_shape`/`input_dim` argument to a layer. When using Sequential models, prefer using an `Input(shape)` object as the first layer in the model instead.\n",
      "  super().__init__(activity_regularizer=activity_regularizer, **kwargs)\n"
     ]
    },
    {
     "name": "stdout",
     "output_type": "stream",
     "text": [
      "Validation F1-Score: 0.6642\n",
      "\n",
      "--- Cross-Validation Results ---\n",
      "Average Accuracy: 0.6672\n",
      "Standard Deviation of Accuracy: 0.0025\n"
     ]
    }
   ],
   "execution_count": 81
  }
 ],
 "metadata": {
  "kernelspec": {
   "display_name": "Python 3",
   "language": "python",
   "name": "python3"
  },
  "language_info": {
   "codemirror_mode": {
    "name": "ipython",
    "version": 2
   },
   "file_extension": ".py",
   "mimetype": "text/x-python",
   "name": "python",
   "nbconvert_exporter": "python",
   "pygments_lexer": "ipython2",
   "version": "2.7.6"
  }
 },
 "nbformat": 4,
 "nbformat_minor": 5
}
